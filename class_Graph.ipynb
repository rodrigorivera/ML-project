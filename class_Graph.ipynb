{
 "cells": [
  {
   "cell_type": "code",
   "execution_count": 0,
   "metadata": {
    "colab": {},
    "colab_type": "code",
    "id": "nYYVizh7fm3b"
   },
   "outputs": [],
   "source": [
    "import pandas as pd\n",
    "import numpy as np\n",
    "import matplotlib.pyplot as plt\n",
    "import seaborn as sns\n",
    "# from tqdm import tqdm\n",
    "from tqdm.notebook import tqdm as tqdm\n",
    "\n",
    "import warnings\n",
    "warnings.filterwarnings(\"ignore\")"
   ]
  },
  {
   "cell_type": "code",
   "execution_count": 8,
   "metadata": {
    "colab": {
     "base_uri": "https://localhost:8080/",
     "height": 54
    },
    "colab_type": "code",
    "id": "cvMwvJH-fwIm",
    "outputId": "b51d76c8-1252-4050-dda6-2ad2ad89bdd2"
   },
   "outputs": [
    {
     "name": "stdout",
     "output_type": "stream",
     "text": [
      "Drive already mounted at /content/drive; to attempt to forcibly remount, call drive.mount(\"/content/drive\", force_remount=True).\n"
     ]
    }
   ],
   "source": [
    "from google.colab import drive\n",
    "drive.mount('/content/drive')"
   ]
  },
  {
   "cell_type": "code",
   "execution_count": 0,
   "metadata": {
    "colab": {},
    "colab_type": "code",
    "id": "8SabLZ19fm3g"
   },
   "outputs": [],
   "source": [
    "# path = 'data/'\n",
    "path = '/content/drive/My Drive/M5_Competition/data/'\n",
    "\n",
    "sales_train = pd.read_csv(path+'sales_train_validation.csv')\n",
    "sales = sales_train.iloc[:, :6]"
   ]
  },
  {
   "cell_type": "markdown",
   "metadata": {
    "colab_type": "text",
    "id": "q6O3hv00fm3t"
   },
   "source": [
    "# Graph construction"
   ]
  },
  {
   "cell_type": "code",
   "execution_count": 13,
   "metadata": {
    "colab": {
     "base_uri": "https://localhost:8080/",
     "height": 87
    },
    "colab_type": "code",
    "id": "iy-I-6rrfm3u",
    "outputId": "6e265150-5ac8-42bd-f305-e276e278df43"
   },
   "outputs": [
    {
     "name": "stdout",
     "output_type": "stream",
     "text": [
      "torch.Size([2, 16228460])\n",
      "(16228460, 70)\n",
      "3.3800888061523438\n"
     ]
    }
   ],
   "source": [
    "import torch\n",
    "import time\n",
    "import os\n",
    "import pickle\n",
    "from scipy import sparse\n",
    "\n",
    "class Graph:\n",
    "    def __init__(self, categories=['state_id', 'store_id', 'cat_id', 'dept_id'], flag_load=False, load_path='graph_data/'):\n",
    "        self.cats = categories\n",
    "        self.flag_load = flag_load\n",
    "        self.load_path = load_path\n",
    "\n",
    "    def __call__(self, df):\n",
    "        graph = self.create_graph(df)\n",
    "        return graph\n",
    "        \n",
    "    def create_graph(self, df):\n",
    "        if self.flag_load:\n",
    "            path = self.load_path + 'graph_dict.pickle'\n",
    "            with open(path, 'rb') as handle:\n",
    "                graph_dct, self.group_num, self.group_card = pickle.load(handle)\n",
    "        else:\n",
    "            df_ind = df.reset_index()\n",
    "            groups_lst = df_ind.groupby(by=self.cats)['index'].apply(list).values\n",
    "            graph_dct = {}\n",
    "            \n",
    "            self.group_card = [] # number of products i each group\n",
    "            self.group_num = len(groups_lst)\n",
    "            \n",
    "            for gr_num, group in enumerate(tqdm(groups_lst)):\n",
    "                \n",
    "                for i, number in enumerate(group):\n",
    "                    temp = np.delete(group, i, axis=0)\n",
    "                    graph_dct[number] = temp\n",
    "                    \n",
    "                self.group_card.append(i)\n",
    "            \n",
    "            if not os.path.exists(self.load_path):\n",
    "                os.makedirs(self.load_path)\n",
    "\n",
    "            path = self.load_path + 'graph_dict.pickle'\n",
    "            with open(path, 'wb') as handle:\n",
    "                pickle.dump((graph_dct, self.group_num, self.group_card), handle)\n",
    "\n",
    "        return graph_dct\n",
    "    \n",
    "    def one_hot(self, ind, card):\n",
    "        card = card * (card + 1) # A_n^2 combinations of 2 edges\n",
    "        one_hot_vector = np.concatenate((np.zeros(ind), [1], np.zeros(self.group_num-ind-1)), axis=0)\n",
    "        sample = np.tile(list(one_hot_vector), (card, 1))\n",
    "\n",
    "        return list(sample)\n",
    "    \n",
    "    def torch_format(self, df):\n",
    "        graph = self.create_graph(df)\n",
    "        if self.flag_load:\n",
    "            path = self.load_path + 'attributes.pickle'\n",
    "            with open(path, 'rb') as handle:\n",
    "                self.edge_index, self.edge_attr = pickle.load(handle)\n",
    "                self.edge_attr = self.edge_attr.todense()\n",
    "        else:\n",
    "            edge_index = [[key, value] for key in graph.keys() for value in graph[key]]\n",
    "            # important: no need to reverse edge_index due to graph construction\n",
    "\n",
    "            edge_index = torch.tensor(edge_index, dtype=torch.long)\n",
    "            self.edge_index=edge_index.t().contiguous()\n",
    "            \n",
    "            edge_attr = np.array([]).reshape(0, self.group_num)\n",
    "            for ind, card in enumerate(tqdm(self.group_card)):\n",
    "                edge_attr = np.vstack((edge_attr, self.one_hot(ind, card)))\n",
    "                \n",
    "            self.edge_attr =  torch.tensor(edge_attr)\n",
    "\n",
    "            path = self.load_path + 'attributes.pickle'\n",
    "            with open(path, 'wb') as handle:\n",
    "                pickle.dump((self.edge_index, sparse.csr_matrix(self.edge_attr)), handle)\n",
    "\n",
    "        print(np.shape(self.edge_index))\n",
    "        print(np.shape(self.edge_attr))\n",
    "\n",
    "start = time.time()\n",
    "graph_class = Graph(flag_load=True)\n",
    "graph_class.torch_format(sales)\n",
    "print(time.time()-start)"
   ]
  },
  {
   "cell_type": "code",
   "execution_count": 0,
   "metadata": {
    "colab": {},
    "colab_type": "code",
    "id": "Skz27p2Zfm32"
   },
   "outputs": [],
   "source": []
  }
 ],
 "metadata": {
  "colab": {
   "machine_shape": "hm",
   "name": "class Graph.ipynb",
   "provenance": []
  },
  "kernelspec": {
   "display_name": "Python 3",
   "language": "python",
   "name": "python3"
  },
  "language_info": {
   "codemirror_mode": {
    "name": "ipython",
    "version": 3
   },
   "file_extension": ".py",
   "mimetype": "text/x-python",
   "name": "python",
   "nbconvert_exporter": "python",
   "pygments_lexer": "ipython3",
   "version": "3.7.4"
  }
 },
 "nbformat": 4,
 "nbformat_minor": 1
}
